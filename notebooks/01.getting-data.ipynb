{
 "cells": [
  {
   "cell_type": "markdown",
   "metadata": {},
   "source": [
    "# Getting Data"
   ]
  },
  {
   "cell_type": "markdown",
   "metadata": {},
   "source": [
    "To decide which fee structure is better for the airport we need historical data of airplane arrivals and delays. The data contains arrival information for October, 2018"
   ]
  },
  {
   "cell_type": "code",
   "execution_count": 1,
   "metadata": {},
   "outputs": [],
   "source": [
    "import urllib.request\n",
    "import shutil\n",
    "import pandas as pd"
   ]
  },
  {
   "cell_type": "code",
   "execution_count": 2,
   "metadata": {},
   "outputs": [],
   "source": [
    "# Download the file\n",
    "DATA_URL = \"https://github.com/BayesianModelingandComputationInPython/BookCode_Edition1/raw/main/data/948363589_T_ONTIME_MARKETING.zip\"\n",
    "FILE_NAME = \"../data/948363589_T_ONTIME_MARKETING.zip\"\n",
    "with urllib.request.urlopen(DATA_URL) as response, open(FILE_NAME, 'wb') as out_file:\n",
    "    shutil.copyfileobj(response, out_file)"
   ]
  },
  {
   "cell_type": "code",
   "execution_count": 3,
   "metadata": {},
   "outputs": [
    {
     "name": "stderr",
     "output_type": "stream",
     "text": [
      "C:\\Users\\Mostafa\\AppData\\Local\\Temp\\ipykernel_20616\\2726963897.py:2: DtypeWarning: Columns (11,13) have mixed types. Specify dtype option on import or set low_memory=False.\n",
      "  df = pd.read_csv(DATA_PATH)\n"
     ]
    }
   ],
   "source": [
    "DATA_PATH = \"../data/948363589_T_ONTIME_MARKETING.zip\"\n",
    "df = pd.read_csv(DATA_PATH)"
   ]
  },
  {
   "cell_type": "code",
   "execution_count": 4,
   "metadata": {},
   "outputs": [
    {
     "data": {
      "text/html": [
       "<div>\n",
       "<style scoped>\n",
       "    .dataframe tbody tr th:only-of-type {\n",
       "        vertical-align: middle;\n",
       "    }\n",
       "\n",
       "    .dataframe tbody tr th {\n",
       "        vertical-align: top;\n",
       "    }\n",
       "\n",
       "    .dataframe thead th {\n",
       "        text-align: right;\n",
       "    }\n",
       "</style>\n",
       "<table border=\"1\" class=\"dataframe\">\n",
       "  <thead>\n",
       "    <tr style=\"text-align: right;\">\n",
       "      <th></th>\n",
       "      <th>YEAR</th>\n",
       "      <th>QUARTER</th>\n",
       "      <th>MONTH</th>\n",
       "      <th>DAY_OF_MONTH</th>\n",
       "      <th>DAY_OF_WEEK</th>\n",
       "      <th>FL_DATE</th>\n",
       "      <th>MKT_UNIQUE_CARRIER</th>\n",
       "      <th>BRANDED_CODE_SHARE</th>\n",
       "      <th>MKT_CARRIER_AIRLINE_ID</th>\n",
       "      <th>MKT_CARRIER</th>\n",
       "      <th>...</th>\n",
       "      <th>ARR_DELAY</th>\n",
       "      <th>ARR_DELAY_NEW</th>\n",
       "      <th>ARR_DEL15</th>\n",
       "      <th>ARR_DELAY_GROUP</th>\n",
       "      <th>ARR_TIME_BLK</th>\n",
       "      <th>CANCELLED</th>\n",
       "      <th>CANCELLATION_CODE</th>\n",
       "      <th>DIVERTED</th>\n",
       "      <th>DUP</th>\n",
       "      <th>Unnamed: 60</th>\n",
       "    </tr>\n",
       "  </thead>\n",
       "  <tbody>\n",
       "    <tr>\n",
       "      <th>0</th>\n",
       "      <td>2018</td>\n",
       "      <td>4</td>\n",
       "      <td>10</td>\n",
       "      <td>18</td>\n",
       "      <td>4</td>\n",
       "      <td>2018-10-18</td>\n",
       "      <td>UA</td>\n",
       "      <td>UA</td>\n",
       "      <td>19977</td>\n",
       "      <td>UA</td>\n",
       "      <td>...</td>\n",
       "      <td>6.0</td>\n",
       "      <td>6.0</td>\n",
       "      <td>0.0</td>\n",
       "      <td>0.0</td>\n",
       "      <td>1100-1159</td>\n",
       "      <td>0.0</td>\n",
       "      <td>NaN</td>\n",
       "      <td>0.0</td>\n",
       "      <td>N</td>\n",
       "      <td>NaN</td>\n",
       "    </tr>\n",
       "    <tr>\n",
       "      <th>1</th>\n",
       "      <td>2018</td>\n",
       "      <td>4</td>\n",
       "      <td>10</td>\n",
       "      <td>18</td>\n",
       "      <td>4</td>\n",
       "      <td>2018-10-18</td>\n",
       "      <td>UA</td>\n",
       "      <td>UA</td>\n",
       "      <td>19977</td>\n",
       "      <td>UA</td>\n",
       "      <td>...</td>\n",
       "      <td>-21.0</td>\n",
       "      <td>0.0</td>\n",
       "      <td>0.0</td>\n",
       "      <td>-2.0</td>\n",
       "      <td>2100-2159</td>\n",
       "      <td>0.0</td>\n",
       "      <td>NaN</td>\n",
       "      <td>0.0</td>\n",
       "      <td>N</td>\n",
       "      <td>NaN</td>\n",
       "    </tr>\n",
       "    <tr>\n",
       "      <th>2</th>\n",
       "      <td>2018</td>\n",
       "      <td>4</td>\n",
       "      <td>10</td>\n",
       "      <td>18</td>\n",
       "      <td>4</td>\n",
       "      <td>2018-10-18</td>\n",
       "      <td>UA</td>\n",
       "      <td>UA</td>\n",
       "      <td>19977</td>\n",
       "      <td>UA</td>\n",
       "      <td>...</td>\n",
       "      <td>10.0</td>\n",
       "      <td>10.0</td>\n",
       "      <td>0.0</td>\n",
       "      <td>0.0</td>\n",
       "      <td>1900-1959</td>\n",
       "      <td>0.0</td>\n",
       "      <td>NaN</td>\n",
       "      <td>0.0</td>\n",
       "      <td>N</td>\n",
       "      <td>NaN</td>\n",
       "    </tr>\n",
       "    <tr>\n",
       "      <th>3</th>\n",
       "      <td>2018</td>\n",
       "      <td>4</td>\n",
       "      <td>10</td>\n",
       "      <td>18</td>\n",
       "      <td>4</td>\n",
       "      <td>2018-10-18</td>\n",
       "      <td>UA</td>\n",
       "      <td>UA</td>\n",
       "      <td>19977</td>\n",
       "      <td>UA</td>\n",
       "      <td>...</td>\n",
       "      <td>-10.0</td>\n",
       "      <td>0.0</td>\n",
       "      <td>0.0</td>\n",
       "      <td>-1.0</td>\n",
       "      <td>0900-0959</td>\n",
       "      <td>0.0</td>\n",
       "      <td>NaN</td>\n",
       "      <td>0.0</td>\n",
       "      <td>N</td>\n",
       "      <td>NaN</td>\n",
       "    </tr>\n",
       "    <tr>\n",
       "      <th>4</th>\n",
       "      <td>2018</td>\n",
       "      <td>4</td>\n",
       "      <td>10</td>\n",
       "      <td>18</td>\n",
       "      <td>4</td>\n",
       "      <td>2018-10-18</td>\n",
       "      <td>UA</td>\n",
       "      <td>UA</td>\n",
       "      <td>19977</td>\n",
       "      <td>UA</td>\n",
       "      <td>...</td>\n",
       "      <td>-10.0</td>\n",
       "      <td>0.0</td>\n",
       "      <td>0.0</td>\n",
       "      <td>-1.0</td>\n",
       "      <td>1300-1359</td>\n",
       "      <td>0.0</td>\n",
       "      <td>NaN</td>\n",
       "      <td>0.0</td>\n",
       "      <td>N</td>\n",
       "      <td>NaN</td>\n",
       "    </tr>\n",
       "  </tbody>\n",
       "</table>\n",
       "<p>5 rows × 61 columns</p>\n",
       "</div>"
      ],
      "text/plain": [
       "   YEAR  QUARTER  MONTH  DAY_OF_MONTH  DAY_OF_WEEK     FL_DATE  \\\n",
       "0  2018        4     10            18            4  2018-10-18   \n",
       "1  2018        4     10            18            4  2018-10-18   \n",
       "2  2018        4     10            18            4  2018-10-18   \n",
       "3  2018        4     10            18            4  2018-10-18   \n",
       "4  2018        4     10            18            4  2018-10-18   \n",
       "\n",
       "  MKT_UNIQUE_CARRIER BRANDED_CODE_SHARE  MKT_CARRIER_AIRLINE_ID MKT_CARRIER  \\\n",
       "0                 UA                 UA                   19977          UA   \n",
       "1                 UA                 UA                   19977          UA   \n",
       "2                 UA                 UA                   19977          UA   \n",
       "3                 UA                 UA                   19977          UA   \n",
       "4                 UA                 UA                   19977          UA   \n",
       "\n",
       "   ...  ARR_DELAY ARR_DELAY_NEW  ARR_DEL15 ARR_DELAY_GROUP  ARR_TIME_BLK  \\\n",
       "0  ...        6.0           6.0        0.0             0.0     1100-1159   \n",
       "1  ...      -21.0           0.0        0.0            -2.0     2100-2159   \n",
       "2  ...       10.0          10.0        0.0             0.0     1900-1959   \n",
       "3  ...      -10.0           0.0        0.0            -1.0     0900-0959   \n",
       "4  ...      -10.0           0.0        0.0            -1.0     1300-1359   \n",
       "\n",
       "  CANCELLED  CANCELLATION_CODE DIVERTED DUP  Unnamed: 60  \n",
       "0       0.0                NaN      0.0   N          NaN  \n",
       "1       0.0                NaN      0.0   N          NaN  \n",
       "2       0.0                NaN      0.0   N          NaN  \n",
       "3       0.0                NaN      0.0   N          NaN  \n",
       "4       0.0                NaN      0.0   N          NaN  \n",
       "\n",
       "[5 rows x 61 columns]"
      ]
     },
     "execution_count": 4,
     "metadata": {},
     "output_type": "execute_result"
    }
   ],
   "source": [
    "df.head()"
   ]
  },
  {
   "cell_type": "markdown",
   "metadata": {},
   "source": [
    "The data has multiple columns but we are interest in a subset for this exercise: \n",
    "\n",
    "|Column|Desciption|\n",
    "|:---|:---|\n",
    "|ORIGIN| flight start airport|\n",
    "|DEST|flight arrival airport|\n",
    "|ARR_DELAY| arrival delay in minutes. A negative value means the flight arrived early.|"
   ]
  },
  {
   "cell_type": "markdown",
   "metadata": {},
   "source": [
    "let's filter the data for only **Madison** arrivals from **Minneapolis** and **Detroit**"
   ]
  },
  {
   "cell_type": "code",
   "execution_count": 5,
   "metadata": {},
   "outputs": [],
   "source": [
    "msn_arrivals = df[(df[\"DEST\"] == \"MSN\") & df[\"ORIGIN\"].isin([\"MSP\", \"DTW\"])][\"ARR_DELAY\"]"
   ]
  },
  {
   "cell_type": "code",
   "execution_count": 6,
   "metadata": {},
   "outputs": [
    {
     "data": {
      "text/plain": [
       "39611   -14.0\n",
       "41697     1.0\n",
       "41826    10.0\n",
       "41858   -15.0\n",
       "43978   -19.0\n",
       "Name: ARR_DELAY, dtype: float64"
      ]
     },
     "execution_count": 6,
     "metadata": {},
     "output_type": "execute_result"
    }
   ],
   "source": [
    "msn_arrivals.head()"
   ]
  },
  {
   "cell_type": "markdown",
   "metadata": {},
   "source": [
    "## Save Data Locally"
   ]
  },
  {
   "cell_type": "code",
   "execution_count": 8,
   "metadata": {},
   "outputs": [],
   "source": [
    "msn_arrivals.to_csv(\"../data/msn_arrivals.csv\", index=False)"
   ]
  }
 ],
 "metadata": {
  "kernelspec": {
   "display_name": "Python 3",
   "language": "python",
   "name": "python3"
  },
  "language_info": {
   "codemirror_mode": {
    "name": "ipython",
    "version": 3
   },
   "file_extension": ".py",
   "mimetype": "text/x-python",
   "name": "python",
   "nbconvert_exporter": "python",
   "pygments_lexer": "ipython3",
   "version": "3.11.6"
  }
 },
 "nbformat": 4,
 "nbformat_minor": 2
}

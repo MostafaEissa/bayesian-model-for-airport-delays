{
 "cells": [
  {
   "cell_type": "markdown",
   "metadata": {},
   "source": [
    "# Airlines Flight Delays"
   ]
  },
  {
   "cell_type": "markdown",
   "metadata": {},
   "source": [
    "\n",
    "At the airport, a standby crew and gate are needed for each arriving airplane to unload passengers. This means late a late arriving airplane caused airport staff and infrastructure to be left idle causing monetary losses for the airport. Hence, the airport fines the airline for each delay.\n",
    "\n",
    "Currently, the airport fines the airline **300$** per minute delayed. \n",
    "\n",
    "The new proposal is tiered so that:\n",
    "\n",
    "$$\n",
    "\\text{fees} =\n",
    "    \\begin{cases}\n",
    "    &1,000 \\quad \\text{delay} < 10~\\text{minutes} \\\\ \n",
    "    &5,000 \\quad 10 <= \\text{delay} <= 100~\\text{minutes} \\\\\n",
    "    &30,000 \\quad \\text{delay} > 100~\\text{minutes}\n",
    "    \\end{cases}\n",
    "$$\n",
    "\n",
    "We were hired by the airport to decide where they should accept the new late fee policy or keep the old one.\n",
    "\n",
    "The airport is **Madison** airport. This new structure will only apply to flights coming from **Minneapolis** and **Detroit**"
   ]
  }
 ],
 "metadata": {
  "language_info": {
   "name": "python"
  }
 },
 "nbformat": 4,
 "nbformat_minor": 2
}

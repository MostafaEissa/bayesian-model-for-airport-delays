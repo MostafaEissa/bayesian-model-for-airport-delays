{
 "cells": [
  {
   "cell_type": "markdown",
   "metadata": {},
   "source": [
    "# Building The Model"
   ]
  },
  {
   "cell_type": "code",
   "execution_count": 1,
   "metadata": {},
   "outputs": [
    {
     "name": "stderr",
     "output_type": "stream",
     "text": [
      "d:\\Research\\Projects\\Misc Experiments\\Bayesian Modeling and Computation in Python\\.venv\\Lib\\site-packages\\tqdm\\auto.py:21: TqdmWarning: IProgress not found. Please update jupyter and ipywidgets. See https://ipywidgets.readthedocs.io/en/stable/user_install.html\n",
      "  from .autonotebook import tqdm as notebook_tqdm\n"
     ]
    }
   ],
   "source": [
    "import pandas as pd\n",
    "import matplotlib.pyplot as plt\n",
    "import numpyro\n",
    "import numpyro.distributions as dist\n",
    "from numpyro.infer import NUTS, MCMC\n",
    "import arviz as az\n",
    "from jax import random\n",
    "import jax.numpy as jnp"
   ]
  },
  {
   "cell_type": "code",
   "execution_count": 2,
   "metadata": {},
   "outputs": [],
   "source": [
    "rng_key = random.key(0)"
   ]
  },
  {
   "cell_type": "code",
   "execution_count": 3,
   "metadata": {},
   "outputs": [],
   "source": [
    "DATA_PATH = \"../data/msn_arrivals.csv\"\n",
    "msn_arrivals = pd.read_csv(DATA_PATH)"
   ]
  },
  {
   "cell_type": "markdown",
   "metadata": {},
   "source": [
    "As an example, below is a plot of the distribution of arrival delays"
   ]
  },
  {
   "cell_type": "code",
   "execution_count": 4,
   "metadata": {},
   "outputs": [
    {
     "data": {
      "image/png": "[encoded data removed]",
      "text/plain": [
       "<Figure size 640x480 with 1 Axes>"
      ]
     },
     "metadata": {},
     "output_type": "display_data"
    }
   ],
   "source": [
    "fig, ax = plt.subplots()\n",
    "\n",
    "az.plot_kde(msn_arrivals.values, ax=ax)\n",
    "ax.set_yticks([])\n",
    "ax.set_xlabel(\"Minutes late\");"
   ]
  },
  {
   "cell_type": "markdown",
   "metadata": {},
   "source": [
    "We can see that the delay is continous variable that is skewed. We have a few distributions that we could use:\n",
    "\n",
    "1. Normal: it is symmetrical and inconsistent with the observed skewness\n",
    "2. Skew-Normal\n",
    "3. Gumbel: it is used to model the distribution of the maximum (or the minimum) of a number of samples\n",
    "\n",
    "We will compare the Normal and Gumbel distributions"
   ]
  },
  {
   "cell_type": "markdown",
   "metadata": {},
   "source": [
    "## Choosing Priors"
   ]
  },
  {
   "cell_type": "markdown",
   "metadata": {},
   "source": [
    "We can see that flight arrivals can be early or late (negative or positive respectively) but exhibit some bounds. It is unlikely that a flight would arrive more than 3 hours late, be more than 3 hours early.\n",
    "\n",
    "Based on that we can can set priors for $\\mu$ and scale. \n",
    "\n",
    "We choose the normal distrubtion for the \\mu centered at zero with standard deviation of 40 (delay can by 0 $\\pm$ 120) and the scale to follow a Half-StudentT distribution "
   ]
  },
  {
   "cell_type": "markdown",
   "metadata": {},
   "source": [
    "\n",
    "**Model 1**:\n",
    "\n",
    "$$\n",
    "\\begin{aligned}\n",
    "\\mu &\\sim \\mathcal{N}(\\mu=0, \\sigma=40) \\\\\n",
    "\\sigma &\\sim \\mathcal{HT}(\\nu=5, \\mu=0, \\sigma=60)\\\\\n",
    "y &\\sim \\mathcal{N}(\\mu, \\sigma)\n",
    "\\end{aligned}\n",
    "$$\n",
    "\n",
    "**Model 2**:\n",
    "\n",
    "$$\n",
    "\\begin{aligned}\n",
    "\\mu &\\sim \\mathcal{N}(\\mu=0, \\sigma=40) \\\\\n",
    "\\beta &\\sim \\mathcal{HT}(\\nu=5, \\mu=0, \\sigma=60)\\\\\n",
    "y &\\sim \\text{Gumbel}(\\mu, \\beta)\\\\\n",
    "\\end{aligned}\n",
    "$$"
   ]
  },
  {
   "cell_type": "markdown",
   "metadata": {},
   "source": [
    "let's simulate some data to see if our priors are reasonable"
   ]
  },
  {
   "cell_type": "code",
   "execution_count": 5,
   "metadata": {},
   "outputs": [],
   "source": [
    "class HalfStudentT(dist.Distribution):\n",
    "    arg_constraints = {\n",
    "        \"df\": dist.constraints.positive,\n",
    "        \"scale\": dist.constraints.positive,\n",
    "    }\n",
    "    support = dist.constraints.positive\n",
    "    reparametrized_params = [\"df\", \"scale\"]\n",
    "    pytree_data_fields = (\"df\", \"scale\", \"_chi2\")\n",
    "\n",
    "    def __init__(self, df, scale=1.0, *, validate_args=None):\n",
    "        from jax import lax\n",
    "        self._studentT = dist.StudentT(df, 0.0, scale)\n",
    "        batch_shape = lax.broadcast_shapes(\n",
    "            jnp.shape(df), jnp.shape(scale)\n",
    "        )\n",
    "        self.df, self.scale = numpyro.distributions.util.promote_shapes(\n",
    "            df, scale, shape=batch_shape\n",
    "        )\n",
    "        df = jnp.broadcast_to(df, batch_shape)\n",
    "        self._chi2 = dist.Chi2(df)\n",
    "        super(HalfStudentT, self).__init__(batch_shape, validate_args=validate_args)\n",
    "\n",
    "    def sample(self, key, sample_shape=()):\n",
    "        return jnp.abs(self._studentT.sample(key, sample_shape))\n",
    "    \n",
    "    @numpyro.distributions.util.validate_sample\n",
    "    def log_prob(self, value):\n",
    "        return self._studentT.log_prob(value) + jnp.log(2)"
   ]
  },
  {
   "cell_type": "code",
   "execution_count": 6,
   "metadata": {},
   "outputs": [],
   "source": [
    "def model1(delay_obs=None):\n",
    "    mu = numpyro.sample(\"mu\", dist.Normal(0, 40))\n",
    "    sigma = numpyro.sample(\"sigma\", HalfStudentT(5, 60))\n",
    "    numpyro.sample(\"delay\", dist.Normal(mu, sigma), obs=delay_obs)"
   ]
  },
  {
   "cell_type": "code",
   "execution_count": 7,
   "metadata": {},
   "outputs": [],
   "source": [
    "def model2(delay_obs=None):\n",
    "    mu = numpyro.sample(\"mu\", dist.Normal(0, 40))\n",
    "    beta = numpyro.sample(\"beta\", HalfStudentT(5, 60))\n",
    "    numpyro.sample(\"delay\", dist.Gumbel(mu, beta), obs=delay_obs)"
   ]
  },
  {
   "cell_type": "code",
   "execution_count": 8,
   "metadata": {},
   "outputs": [],
   "source": [
    "def sample(model, rng_key_):\n",
    "    kernel = NUTS(model)\n",
    "    sampler = MCMC(kernel, num_chains=4, num_warmup=500, num_samples=1000)\n",
    "    sampler.run(rng_key_)\n",
    "    return az.from_numpyro(sampler)"
   ]
  },
  {
   "cell_type": "code",
   "execution_count": 9,
   "metadata": {},
   "outputs": [
    {
     "name": "stderr",
     "output_type": "stream",
     "text": [
      "C:\\Users\\Mostafa\\AppData\\Local\\Temp\\ipykernel_1456\\2406517587.py:3: UserWarning: There are not enough devices to run parallel chains: expected 4 but got 1. Chains will be drawn sequentially. If you are running MCMC in CPU, consider using `numpyro.set_host_device_count(4)` at the beginning of your program. You can double-check how many devices are available in your system using `jax.local_device_count()`.\n",
      "  sampler = MCMC(kernel, num_chains=4, num_warmup=500, num_samples=1000)\n",
      "sample: 100%|██████████| 1500/1500 [00:02<00:00, 641.61it/s, 11 steps of size 2.83e-01. acc. prob=0.86]\n",
      "sample: 100%|██████████| 1500/1500 [00:00<00:00, 3076.86it/s, 7 steps of size 3.19e-01. acc. prob=0.86]\n",
      "sample: 100%|██████████| 1500/1500 [00:00<00:00, 3188.82it/s, 11 steps of size 3.99e-01. acc. prob=0.76]\n",
      "sample: 100%|██████████| 1500/1500 [00:00<00:00, 3411.58it/s, 1 steps of size 3.22e-01. acc. prob=0.76] \n"
     ]
    }
   ],
   "source": [
    "rng_key, rng_key_ = random.split(rng_key)\n",
    "inf_data_model1 = sample(model1, rng_key_)"
   ]
  },
  {
   "cell_type": "code",
   "execution_count": 10,
   "metadata": {},
   "outputs": [
    {
     "name": "stderr",
     "output_type": "stream",
     "text": [
      "C:\\Users\\Mostafa\\AppData\\Local\\Temp\\ipykernel_1456\\2406517587.py:3: UserWarning: There are not enough devices to run parallel chains: expected 4 but got 1. Chains will be drawn sequentially. If you are running MCMC in CPU, consider using `numpyro.set_host_device_count(4)` at the beginning of your program. You can double-check how many devices are available in your system using `jax.local_device_count()`.\n",
      "  sampler = MCMC(kernel, num_chains=4, num_warmup=500, num_samples=1000)\n",
      "  0%|          | 0/1500 [00:00<?, ?it/s]"
     ]
    },
    {
     "name": "stderr",
     "output_type": "stream",
     "text": [
      "sample: 100%|██████████| 1500/1500 [00:02<00:00, 620.97it/s, 15 steps of size 1.39e-01. acc. prob=0.45] \n",
      "sample: 100%|██████████| 1500/1500 [00:00<00:00, 3676.35it/s, 3 steps of size 3.25e-01. acc. prob=0.77] \n",
      "sample: 100%|██████████| 1500/1500 [00:00<00:00, 2652.82it/s, 7 steps of size 1.96e-01. acc. prob=0.80] \n",
      "sample: 100%|██████████| 1500/1500 [00:00<00:00, 2565.46it/s, 7 steps of size 3.33e-01. acc. prob=0.70]\n"
     ]
    }
   ],
   "source": [
    "rng_key, rng_key_ = random.split(rng_key)\n",
    "inf_data_model2 = sample(model2, rng_key_)"
   ]
  },
  {
   "cell_type": "code",
   "execution_count": 11,
   "metadata": {},
   "outputs": [
    {
     "data": {
      "image/png": "[encoded data removed]",
      "text/plain": [
       "<Figure size 1000x400 with 2 Axes>"
      ]
     },
     "metadata": {},
     "output_type": "display_data"
    }
   ],
   "source": [
    "fig, axes = plt.subplots(1, 2, figsize=(10,4))\n",
    "\n",
    "prior_predictives = {\"normal\": inf_data_model1.posterior['delay'].data, \"gumbel\": inf_data_model2.posterior['delay'].data }\n",
    "\n",
    "for i, (label, prior_predictive) in enumerate(prior_predictives.items()):\n",
    "    \n",
    "    data = prior_predictive.flatten()\n",
    "    az.plot_dist(data, ax=axes[i])\n",
    "    axes[i].set_yticks([])\n",
    "    axes[i].set_xlim(-300, 300)\n",
    "    axes[i].set_title(label)"
   ]
  },
  {
   "cell_type": "markdown",
   "metadata": {},
   "source": [
    "The prior predictive check shows that both models are reasonable for our assumptions"
   ]
  }
 ],
 "metadata": {
  "kernelspec": {
   "display_name": "Python 3",
   "language": "python",
   "name": "python3"
  },
  "language_info": {
   "codemirror_mode": {
    "name": "ipython",
    "version": 3
   },
   "file_extension": ".py",
   "mimetype": "text/x-python",
   "name": "python",
   "nbconvert_exporter": "python",
   "pygments_lexer": "ipython3",
   "version": "3.11.6"
  }
 },
 "nbformat": 4,
 "nbformat_minor": 2
}
